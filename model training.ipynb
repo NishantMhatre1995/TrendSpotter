{
 "cells": [
  {
   "cell_type": "code",
   "execution_count": 1,
   "id": "aadb7f22",
   "metadata": {},
   "outputs": [
    {
     "name": "stderr",
     "output_type": "stream",
     "text": [
      "[nltk_data] Downloading package stopwords to\n",
      "[nltk_data]     C:\\Users\\mhatr\\AppData\\Roaming\\nltk_data...\n",
      "[nltk_data]   Package stopwords is already up-to-date!\n"
     ]
    }
   ],
   "source": [
    "from flair.models import TextClassifier\n",
    "from flair.data import Sentence\n",
    "\n",
    "import numpy as np\n",
    "import pandas as pd\n",
    "#import html\n",
    "import re\n",
    "import nltk\n",
    "nltk.download('stopwords')\n",
    "from nltk.corpus import stopwords\n",
    "from nltk.tokenize import RegexpTokenizer\n",
    "from emot.emo_unicode import UNICODE_EMOJI, EMOTICONS_EMO\n",
    "\n",
    "# from sklearn.model_selection import train_test_split\n",
    "# import evaluate\n",
    "\n",
    "# import transformers\n",
    "# from transformers import AutoTokenizer\n",
    "# from transformers import TFAutoModelForSequenceClassification\n",
    "# import tensorflow as tf"
   ]
  },
  {
   "cell_type": "code",
   "execution_count": null,
   "id": "75624177",
   "metadata": {},
   "outputs": [],
   "source": []
  },
  {
   "cell_type": "code",
   "execution_count": null,
   "id": "60f26d7b",
   "metadata": {},
   "outputs": [],
   "source": []
  },
  {
   "cell_type": "code",
   "execution_count": null,
   "id": "91c70ad0",
   "metadata": {},
   "outputs": [],
   "source": []
  },
  {
   "cell_type": "code",
   "execution_count": 2,
   "id": "ca589436",
   "metadata": {},
   "outputs": [],
   "source": [
    "dfSentiment = pd.read_csv('TrainingData.csv',nrows=10000)\n",
    "#dfSentiment = dfSentiment.sample(random_state=0, n=10000)\n",
    "dfSentiment.reset_index(drop=True, inplace=True)"
   ]
  },
  {
   "cell_type": "code",
   "execution_count": 3,
   "id": "0b386c10",
   "metadata": {},
   "outputs": [
    {
     "data": {
      "text/html": [
       "<div>\n",
       "<style scoped>\n",
       "    .dataframe tbody tr th:only-of-type {\n",
       "        vertical-align: middle;\n",
       "    }\n",
       "\n",
       "    .dataframe tbody tr th {\n",
       "        vertical-align: top;\n",
       "    }\n",
       "\n",
       "    .dataframe thead th {\n",
       "        text-align: right;\n",
       "    }\n",
       "</style>\n",
       "<table border=\"1\" class=\"dataframe\">\n",
       "  <thead>\n",
       "    <tr style=\"text-align: right;\">\n",
       "      <th></th>\n",
       "      <th>data</th>\n",
       "      <th>sentiment</th>\n",
       "    </tr>\n",
       "  </thead>\n",
       "  <tbody>\n",
       "    <tr>\n",
       "      <th>0</th>\n",
       "      <td>Gas by my house hit $3.39!!!! I'm going to Cha...</td>\n",
       "      <td>2</td>\n",
       "    </tr>\n",
       "    <tr>\n",
       "      <th>1</th>\n",
       "      <td>Iranian general says Israel's Iron Dome can't ...</td>\n",
       "      <td>0</td>\n",
       "    </tr>\n",
       "    <tr>\n",
       "      <th>2</th>\n",
       "      <td>with J Davlar 11th. Main rivals are team Polan...</td>\n",
       "      <td>2</td>\n",
       "    </tr>\n",
       "    <tr>\n",
       "      <th>3</th>\n",
       "      <td>Talking about ACT's &amp;&amp; SAT's, deciding where I...</td>\n",
       "      <td>0</td>\n",
       "    </tr>\n",
       "    <tr>\n",
       "      <th>4</th>\n",
       "      <td>They may have a SuperBowl in Dallas, but Dalla...</td>\n",
       "      <td>0</td>\n",
       "    </tr>\n",
       "  </tbody>\n",
       "</table>\n",
       "</div>"
      ],
      "text/plain": [
       "                                                data  sentiment\n",
       "0  Gas by my house hit $3.39!!!! I'm going to Cha...          2\n",
       "1  Iranian general says Israel's Iron Dome can't ...          0\n",
       "2  with J Davlar 11th. Main rivals are team Polan...          2\n",
       "3  Talking about ACT's && SAT's, deciding where I...          0\n",
       "4  They may have a SuperBowl in Dallas, but Dalla...          0"
      ]
     },
     "execution_count": 3,
     "metadata": {},
     "output_type": "execute_result"
    }
   ],
   "source": [
    "dfSentiment.head()"
   ]
  },
  {
   "cell_type": "code",
   "execution_count": null,
   "id": "d3d7be0d",
   "metadata": {},
   "outputs": [],
   "source": []
  },
  {
   "cell_type": "code",
   "execution_count": 5,
   "id": "43cae960",
   "metadata": {},
   "outputs": [
    {
     "data": {
      "text/plain": [
       "1    3691\n",
       "2    2834\n",
       "0    1064\n",
       "Name: sentiment, dtype: int64"
      ]
     },
     "execution_count": 5,
     "metadata": {},
     "output_type": "execute_result"
    }
   ],
   "source": [
    "dfSentiment.sentiment.value_counts()"
   ]
  },
  {
   "cell_type": "code",
   "execution_count": null,
   "id": "b5c2974c",
   "metadata": {},
   "outputs": [],
   "source": []
  },
  {
   "cell_type": "code",
   "execution_count": null,
   "id": "30ba7665",
   "metadata": {},
   "outputs": [],
   "source": [
    "text = dfSentiment.data[0]\n",
    "text"
   ]
  },
  {
   "cell_type": "code",
   "execution_count": null,
   "id": "d35c6382",
   "metadata": {},
   "outputs": [],
   "source": [
    "# ###############     Regex defination       ################################\n",
    "\n",
    "# regex to perform operations\n",
    "html_re = re.compile('<.*?>') # html links\n",
    "email = re.compile(r'[\\w\\.-]+@[\\w\\.-]+') # emails\n",
    "punctuation_token=RegexpTokenizer(r'\\w+') # punctuation\n",
    "#non_word_pattern = re.compile(r'[^\\w\\s]+') # &amp; to & converstion.\n",
    "\n",
    "# creating stop words regex\n",
    "cachedStopWords = set(stopwords.words(\"english\"))\n",
    "#add custom words\n",
    "cachedStopWords.update(('and','I','A','http','And','So','arnt','This','When','It','many','Many','so','cant','Yes','yes','No','no','These','these','mailto','regards','ayanna','like','email'))\n",
    "# Define regex pattern to match stop words\n",
    "stop_words_pattern = re.compile(r'\\b(' + r'|'.join(cachedStopWords) + r')\\b', flags=re.IGNORECASE)\n",
    "\n",
    "\n",
    "# creating regex to remove emoji\n",
    "emoji_pattern = re.compile(\"[\"\n",
    "    u\"\\U0001F600-\\U0001F64F\"  # emoticons\n",
    "    u\"\\U0001F300-\\U0001F5FF\"  # symbols & pictographs\n",
    "    u\"\\U0001F680-\\U0001F6FF\"  # transport & map symbols\n",
    "    u\"\\U0001F1E0-\\U0001F1FF\"  # flags (iOS)\n",
    "    u\"\\U00002702-\\U000027B0\"  # other miscellaneous symbols\n",
    "    u\"\\U000024C2-\\U0001F251\" \n",
    "    u\"\\U0001F910-\\U0001F96B\"  # new emojis introduced in Unicode 9.0\n",
    "    u\"\\U0001F980-\\U0001F991\"  # new emojis introduced in Unicode 10.0\n",
    "    u\"\\U0001F9C0\"             # new emojis introduced in Unicode 11.0\n",
    "    \"]+\", flags=re.UNICODE)\n",
    "\n",
    "# ###############################################################################"
   ]
  },
  {
   "cell_type": "code",
   "execution_count": null,
   "id": "b1c14372",
   "metadata": {},
   "outputs": [],
   "source": [
    "def clean_text(text):\n",
    "    \n",
    "    # remove retweet username and tweeted at @username\n",
    "    text = re.sub('(@[A-Za-z]+[A-Za-z0-9-_]+)', '', text) \n",
    "    \n",
    "    # remove links\n",
    "    text = re.sub(r'http\\S+', '', text) # remove http links\n",
    "    text = re.sub(r'bit.ly/\\S+', '', text) # remove bitly links\n",
    "    text = text.strip('[link]') # remove [links]\n",
    "\n",
    "    # remove html\n",
    "    text = html_re.sub(r'',text)\n",
    "\n",
    "    # remove non ascii character\n",
    "    text = re.sub(r'[^\\x00-\\x7F]+', '', text)\n",
    "\n",
    "    # lower the text\n",
    "    text = text.lower()\n",
    "\n",
    "    # remove email address\n",
    "    text = email.sub(r'',text)\n",
    "\n",
    "    # remove punctuation\n",
    "    text = punctuation_token.tokenize(text)\n",
    "    text= \" \".join(text)\n",
    "    \n",
    "    #remove stopwords\n",
    "    text = stop_words_pattern.sub('', text)\n",
    "\n",
    "    # remove Special characters\n",
    "    text = re.sub('([_]+)', \"\", text)\n",
    "    \n",
    "    # remove emoji\n",
    "    text = emoji_pattern.sub(r\"\", text)\n",
    "    \n",
    "    # # find hashtags in post\n",
    "    # text = re.findall(r\"#(\\w+)\", text)\n",
    "    \n",
    "    return ' '.join(text.split())"
   ]
  },
  {
   "cell_type": "code",
   "execution_count": null,
   "id": "51fdbcfa",
   "metadata": {},
   "outputs": [],
   "source": [
    "dfSentiment.data = dfSentiment.data.apply(clean_text)"
   ]
  },
  {
   "cell_type": "code",
   "execution_count": null,
   "id": "a87975bd",
   "metadata": {},
   "outputs": [],
   "source": [
    "# load the pre-trained sentiment classification model\n",
    "classifier = TextClassifier.load('en-sentiment')"
   ]
  },
  {
   "cell_type": "code",
   "execution_count": null,
   "id": "82e4a868",
   "metadata": {},
   "outputs": [],
   "source": [
    "sentences = [Sentence(i) for i in dfSentiment.data[:100]]\n",
    "\n",
    "label = []\n",
    "score = []\n",
    "for sentence in sentences:\n",
    "    classifier.predict(sentence)\n",
    "    label.append(sentence.labels[0].value)\n",
    "    score.append(sentence.labels[0].score)\n",
    "    "
   ]
  },
  {
   "cell_type": "code",
   "execution_count": null,
   "id": "9ba20a85",
   "metadata": {},
   "outputs": [],
   "source": []
  },
  {
   "cell_type": "code",
   "execution_count": null,
   "id": "9f084f1e",
   "metadata": {},
   "outputs": [],
   "source": []
  },
  {
   "cell_type": "code",
   "execution_count": null,
   "id": "c24cc13e",
   "metadata": {},
   "outputs": [],
   "source": []
  },
  {
   "cell_type": "code",
   "execution_count": null,
   "id": "1fbd5867",
   "metadata": {},
   "outputs": [],
   "source": []
  },
  {
   "cell_type": "code",
   "execution_count": null,
   "id": "3b856641",
   "metadata": {},
   "outputs": [],
   "source": []
  },
  {
   "cell_type": "code",
   "execution_count": null,
   "id": "0d8f9e2a",
   "metadata": {},
   "outputs": [],
   "source": []
  },
  {
   "cell_type": "code",
   "execution_count": null,
   "id": "887cc1e7",
   "metadata": {},
   "outputs": [],
   "source": []
  }
 ],
 "metadata": {
  "kernelspec": {
   "display_name": "Python 3 (ipykernel)",
   "language": "python",
   "name": "python3"
  },
  "language_info": {
   "codemirror_mode": {
    "name": "ipython",
    "version": 3
   },
   "file_extension": ".py",
   "mimetype": "text/x-python",
   "name": "python",
   "nbconvert_exporter": "python",
   "pygments_lexer": "ipython3",
   "version": "3.9.12"
  }
 },
 "nbformat": 4,
 "nbformat_minor": 5
}
