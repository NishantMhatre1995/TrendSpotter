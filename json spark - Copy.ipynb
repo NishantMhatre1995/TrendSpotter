{
 "cells": [
  {
   "cell_type": "code",
   "execution_count": 1,
   "id": "8845d969",
   "metadata": {},
   "outputs": [],
   "source": [
    "\n",
    "import pandas as pd\n",
    "\n",
    "import os"
   ]
  },
  {
   "cell_type": "code",
   "execution_count": 2,
   "id": "2e384f4b",
   "metadata": {},
   "outputs": [],
   "source": [
    "def fetch_twitter_api(topic='indiana', post_counts=20):\n",
    "    import tweepy\n",
    "    #from tweepy import *\n",
    "    \n",
    "    # Tokens and keys\n",
    "    consumer_key = \"hWNSgkUWzODJLEu4WpM2NvmnS\"\n",
    "    consumer_secret = \"wLEw59J7Kmo17ExFN9QfuBjRDqq2vRAErHerrFu61MFFdy70CO\"\n",
    "    access_token = \"1478233626093359106-WJIRpHgBzooci9Dt3P7A8YPtMTMtBZ\"\n",
    "    access_token_secret = \"2TtQ87dKkp0d9gqG86qqAYLuwHpGa9VJxTDShoP7vOaK4\"\n",
    "    bearer_token = \"AAAAAAAAAAAAAAAAAAAAAKyOmwEAAAAAqGTUk3N2%2FZGYBK5vOYCJNZ44fyE%3D5dpekUvurkENJ6JQvONDteN8TznSFVWGexcKabs41e2tJS3LnM\"\n",
    "    callback_uri = 'oob'\n",
    "\n",
    "    # Configure the Twitter API credentials\n",
    "    auth = tweepy.OAuthHandler(consumer_key, consumer_secret)\n",
    "    auth.set_access_token(access_token, access_token_secret)\n",
    "    api = tweepy.API(auth)\n",
    "\n",
    "    # get api data\n",
    "    #topic = 'indiana'\n",
    "    tweets = api.search_tweets(q=topic, count=post_counts, lang = 'en', tweet_mode=\"extended\")\n",
    "    \n",
    "    return tweets"
   ]
  },
  {
   "cell_type": "code",
   "execution_count": 3,
   "id": "4af59221",
   "metadata": {},
   "outputs": [],
   "source": [
    "def twitter_api(topic='indiana', post_counts=20):\n",
    "    tweets = fetch_twitter_api(topic, post_counts)\n",
    "    # scrap tweets from api raw data\n",
    "    data_tweets = []\n",
    "    for tweet in tweets:\n",
    "        try:\n",
    "            # tweet data\n",
    "            try:\n",
    "                data = tweet.retweeted_status.full_text.replace('\\n', ' ')\n",
    "                #print('try')\n",
    "            except:\n",
    "                data = tweet.full_text\n",
    "                #print('except')\n",
    "\n",
    "            #post time    \n",
    "            try:\n",
    "                post_date = str(tweet.created_at.replace(tzinfo=None))\n",
    "            except:\n",
    "                post_date = None\n",
    "\n",
    "            # user_id\n",
    "            try:\n",
    "                user_id = tweet.entities['user_mentions'][0]['screen_name']\n",
    "            except:\n",
    "                try:\n",
    "                    user_id = j['user']['screen_name']\n",
    "                except:\n",
    "                    user_id = None\n",
    "\n",
    "            data_tweets.append({'data':data, 'post_date':post_date, 'user_id':user_id})\n",
    "        except:\n",
    "            #print('fail')\n",
    "            pass\n",
    "        \n",
    "        \n",
    "    return data_tweets"
   ]
  },
  {
   "cell_type": "code",
   "execution_count": 4,
   "id": "923b1d86",
   "metadata": {},
   "outputs": [],
   "source": [
    "d = twitter_api()"
   ]
  },
  {
   "cell_type": "code",
   "execution_count": 5,
   "id": "60ef32ca",
   "metadata": {
    "scrolled": true
   },
   "outputs": [
    {
     "data": {
      "text/plain": [
       "[{'data': 'This is the first year that we have participated in this national competition and we managed to finish in the top 18% overall AND came in FIRST PLACE of participating Indiana universities! 🏆Congrats, Valpo! [2/2] https://t.co/dSAyExVSK7',\n",
       "  'post_date': '2023-04-24 20:54:57',\n",
       "  'user_id': None},\n",
       " {'data': 'Purple twilight moment at Lake George in Hobart, Indiana, US https://t.co/CIFm0MaKaI',\n",
       "  'post_date': '2023-04-24 20:54:54',\n",
       "  'user_id': 'LoveSongs4Peace'},\n",
       " {'data': 'Giveaway #87, RT + Like + Follow for a chance to win the Indiana Jones Pop! Winner will be randomly chosen and announced on 4/30.  Pop Page ➡️ https://t.co/HWeqXXZ5EB  #Funko #FunkoPop #FunkoFamily #IndianaJones https://t.co/YQtzSwjC8y',\n",
       "  'post_date': '2023-04-24 20:54:51',\n",
       "  'user_id': 'JonFunkos'},\n",
       " {'data': '🚨 Weekly #B1GBaseball Awards 🚨  ⚾ Player of the Week: Eddie Hacopian, Maryland  ⚾ Pitcher of the Week: Ethan Phillips, Indiana  ⚾ Freshman of the Week: Tyler Cerny, Indiana  🔗: https://t.co/8PRPw3vkTr',\n",
       "  'post_date': '2023-04-24 20:54:49',\n",
       "  'user_id': 'B1Gbaseball'},\n",
       " {'data': '\"This is the final film in the series, and this is the last time I’ll play the character,\" says Harrison Ford. \"I anticipate that it will be the last time that he appears in a film.\" https://t.co/CUgGhDTJ8X',\n",
       "  'post_date': '2023-04-24 20:54:43',\n",
       "  'user_id': 'Variety'},\n",
       " {'data': 'Looking for my next podcast fix. Jumping all over the place at the moment. Listened to a fab one called ‘Beginnings with Andy Beckerman’ today with one of my favourite writers Karl Schaefer, of Eerie Indiana &amp; Z Nation fame.',\n",
       "  'post_date': '2023-04-24 20:54:39',\n",
       "  'user_id': None},\n",
       " {'data': \"So they're like the shitty capitalist version of the people that were sworn to protect the ark in Indiana Jones?\\n\\nlame https://t.co/sjpigb3kwJ\",\n",
       "  'post_date': '2023-04-24 20:54:39',\n",
       "  'user_id': None},\n",
       " {'data': \"🥎🏅 Congrats to this week's #B1GSoftball honorees!   𝙋𝙡𝙖𝙮𝙚𝙧: Lexie Black, @PennStateSB 𝙋𝙞𝙩𝙘𝙝𝙚𝙧: Autumn Pease, @GopherSoftball 𝙁𝙧𝙚𝙨𝙝𝙢𝙖𝙣: Taryn Kern, @IndianaSB   🔗 https://t.co/jv9TQ4aoJP https://t.co/HPvFqLYgTm\",\n",
       "  'post_date': '2023-04-24 20:54:21',\n",
       "  'user_id': 'B1Gsoftball'},\n",
       " {'data': \"Dear @LEGO_Group, I see you now have Indiana Jones licensed sets but none of them represent Temple of Doom.  Great sets FYC: The Mine Cart Escape The Showdown At The Bridge The Thuggee's Secret Temple The Feast At Pankot Palace The Spike Trap Room  These all feature Ke Huy Quan\",\n",
       "  'post_date': '2023-04-24 20:54:19',\n",
       "  'user_id': 'MangyAsianMan'},\n",
       " {'data': '@DigiVorr @TeekeeMon @AgainMothra @PunditParanoia @EducatingTrump2 @TheAngryPundit @2457klhu @Pis0Mojado @HeartlessCreat5 @TastyMorsel6 @Karlton111 @backtobacktoday @AllyFromCali23 @BrillDarren @_CapitalOffense @comboverwhelmed @MolaRamLinux @skeeduu @VinceGottalotta @PatrioticKitten @ReneeDonnel @AcrytearsMag @Lietdansnewlegs @PeterFee182 @MistressRedWasp @Alion4Truth @AntWindmill @AngryFleas @Sasquatch4eva @perinejennifer5 @ThomasP7575 @Kelledin @NotaDorR1 @Jeff23645831 @lanemancini61 @michellewither6 @itisjustmebabe @ltlnicky43 @jkoff609 @TrumpLOST5 @Nicoleg425 @WorkersUtopia @KleeOntheRight @emerichathome @RealDamnDean @AureliusRep @__TeekeeMon @griffo_nicholas @SisterJan2 @EHunt48483 Yeah! \\n\\nThat’s a slogan from Indiana Beach. \\nThere’s more than corn in Indiana! With a crow for a mascot. 🤣',\n",
       "  'post_date': '2023-04-24 20:54:19',\n",
       "  'user_id': 'DigiVorr'},\n",
       " {'data': \"Cincinnati beat out strong pushes from Oregon, WVU, Indiana, Ohio State, UNC, Xavier and more for CJ Fredrick. Everyone made a run at him over the weekend, but relationship with Wes Miller was key. Also credit to @Jake_Thelen who I'm told was instrumental. #Bearcats\",\n",
       "  'post_date': '2023-04-24 20:53:59',\n",
       "  'user_id': 'ChadBrendel'},\n",
       " {'data': \"Fifth, Indiana already has reading standards. They're part of the ELA standards. It'll be interesting to see what they add/remove from these existing ones due to the new law. \\n\\nAnd the people who most want to know are those who publish reading curriculums (2b) https://t.co/TP1m6mYCt7\",\n",
       "  'post_date': '2023-04-24 20:53:25',\n",
       "  'user_id': None},\n",
       " {'data': 'HB 1420 is anti-competitive, anti-free market, anti-consumer and will send electricity costs soaring in Indiana. @GovHolcomb, veto this bill!  #energytwitter #Indiana https://t.co/KrgRKYoXl3',\n",
       "  'post_date': '2023-04-24 20:53:22',\n",
       "  'user_id': 'ElectricityTCC'},\n",
       " {'data': 'Popular Indiana Doughnut Chain Opening In Jasper  https://t.co/kiFHW1I5BD',\n",
       "  'post_date': '2023-04-24 20:53:14',\n",
       "  'user_id': None},\n",
       " {'data': 'The 5 Most Expensive Homes Currently For Sale in Indiana https://t.co/G1wZ83qHs9',\n",
       "  'post_date': '2023-04-24 20:53:13',\n",
       "  'user_id': None},\n",
       " {'data': 'welcome to Indiana, @aa_boston!   @PacersSportsEnt employees gathered to welcome Aliyah Boston to @GainbridgeFH this morning. https://t.co/Ur3TyJhUO6',\n",
       "  'post_date': '2023-04-24 20:53:12',\n",
       "  'user_id': 'IndianaFever'},\n",
       " {'data': '@indiana_edits thank god i got no classes on friday next semester',\n",
       "  'post_date': '2023-04-24 20:53:06',\n",
       "  'user_id': 'indiana_edits'},\n",
       " {'data': 'The House votes to concur on HB 1608, which means this bill is on the way to Gov. Holcomb for consideration. \\n\\nThat basically answers No. 8 on our list of questions: https://t.co/jIXrqmnEhn https://t.co/npGlNTF4am',\n",
       "  'post_date': '2023-04-24 20:53:01',\n",
       "  'user_id': None},\n",
       " {'data': '@LeChouNews So is Indiana Jones',\n",
       "  'post_date': '2023-04-24 20:52:34',\n",
       "  'user_id': 'LeChouNews'},\n",
       " {'data': 'CAUGHT ON CAMERA: Sonic boom likely caused by meteor alarms residents in Indiana: https://t.co/RottClagj3 https://t.co/zMcPbHKmiE',\n",
       "  'post_date': '2023-04-24 20:52:18',\n",
       "  'user_id': None}]"
      ]
     },
     "execution_count": 5,
     "metadata": {},
     "output_type": "execute_result"
    }
   ],
   "source": [
    "d"
   ]
  },
  {
   "cell_type": "code",
   "execution_count": null,
   "id": "ac33a661",
   "metadata": {},
   "outputs": [],
   "source": []
  },
  {
   "cell_type": "markdown",
   "id": "75d2504d",
   "metadata": {},
   "source": [
    "# #############################"
   ]
  },
  {
   "cell_type": "code",
   "execution_count": null,
   "id": "5b008093",
   "metadata": {},
   "outputs": [],
   "source": []
  },
  {
   "cell_type": "code",
   "execution_count": 6,
   "id": "f446fdde",
   "metadata": {},
   "outputs": [],
   "source": [
    "def fetch_reddit_api(topic='indiana', post_counts=20):\n",
    "    import praw\n",
    "    \n",
    "    reddit = praw.Reddit(\n",
    "        client_id=\"TqrrKYVBmnJxhRRmsFb1jA\",\n",
    "        client_secret=\"nEX6xZ-CSZ82KnL3qTu7R1G00dRRgw\",\n",
    "        password=\"Password@123\",\n",
    "        user_agent=\"testscript by u/Simple_Pin4470\",\n",
    "        username=\"Simple_Pin4470\",\n",
    "    )\n",
    "\n",
    "    search_results = reddit.subreddit('all').search(topic, limit=post_counts)\n",
    "\n",
    "    return search_results"
   ]
  },
  {
   "cell_type": "code",
   "execution_count": null,
   "id": "d774c4ea",
   "metadata": {},
   "outputs": [],
   "source": []
  },
  {
   "cell_type": "code",
   "execution_count": 7,
   "id": "93d0774e",
   "metadata": {},
   "outputs": [],
   "source": [
    "def reddit_api(topic='indiana', post_counts=20):\n",
    "    import datetime\n",
    "    search_results = fetch_reddit_api(topic, post_counts)\n",
    "\n",
    "    data_reddit = []\n",
    "    for post in search_results:\n",
    "        try:\n",
    "            try:\n",
    "                data = post.selftext+post.title\n",
    "                data = data.replace('\\n', ' ').replace('\\t', ' ')\n",
    "            except:\n",
    "                data = None\n",
    "\n",
    "            try:\n",
    "                user_id = post.author.name\n",
    "            except:\n",
    "                user_id = None\n",
    "\n",
    "            try:\n",
    "                post_date = str(datetime.datetime.fromtimestamp(post.created_utc))\n",
    "            except:\n",
    "                post_date = None\n",
    "\n",
    "\n",
    "            data_reddit.append({'data':data, 'post_date':post_date, 'user_id':user_id})\n",
    "        except:\n",
    "            pass\n",
    "\n",
    "    return data_reddit"
   ]
  },
  {
   "cell_type": "code",
   "execution_count": 8,
   "id": "e2b70081",
   "metadata": {},
   "outputs": [
    {
     "data": {
      "text/plain": [
       "[{'data': 'Indiana Jones and The Dial of Destiny | Official Trailer',\n",
       "  'post_date': '2023-04-07 07:58:22',\n",
       "  'user_id': 'indig0sixalpha'},\n",
       " {'data': 'What are your thoughts on the new Indiana Jones sets?',\n",
       "  'post_date': '2023-03-27 11:55:45',\n",
       "  'user_id': 'Zeustah-'},\n",
       " {'data': 'Indiana police will no longer be able to lie to children to gain confessions',\n",
       "  'post_date': '2023-04-13 11:48:10',\n",
       "  'user_id': 'PetrogradIV'},\n",
       " {'data': \"Indiana cop opens fire on an actor while he's filming a movie scen\",\n",
       "  'post_date': '2023-03-30 19:11:37',\n",
       "  'user_id': 'sakamoto__'},\n",
       " {'data': '5-year-old fatally shoots 16-month-old brother at Indiana apartment',\n",
       "  'post_date': '2023-03-29 14:51:39',\n",
       "  'user_id': 'Yessicasc'},\n",
       " {'data': '\"... in Indiana, there is Senate Bill 12. It’s already passed the state senate. If it becomes law, it would allow for criminal prosecution of [public] librarians for having content harmful to minors.\"',\n",
       "  'post_date': '2023-04-06 03:24:01',\n",
       "  'user_id': 'NotABot374102'},\n",
       " {'data': 'Currently Richmond, Indiana, plastic processing company and propane facility on fire.',\n",
       "  'post_date': '2023-04-11 20:36:43',\n",
       "  'user_id': 'Phantomoperator'},\n",
       " {'data': \"New Poster for 'Indiana Jones and the Dial of Destiny'\",\n",
       "  'post_date': '2023-04-07 07:54:22',\n",
       "  'user_id': 'MarvelsGrantMan136'},\n",
       " {'data': 'Kate Capshaw, Harrison Ford and Ke Huy Quan during the filming of Indiana Jones and the Temple of Doom in 1984',\n",
       "  'post_date': '2023-04-07 09:47:38',\n",
       "  'user_id': 'Stonewalled89'},\n",
       " {'data': 'Richmond, Indiana. Plastic Processing and propane facility on fire',\n",
       "  'post_date': '2023-04-12 06:07:46',\n",
       "  'user_id': 'Light_Phieonx1'},\n",
       " {'data': \"https://twitter.com/ViewerAnon/status/1642267988085833728?t=CRkwtiFg_OLKFdWrGWNCBA&s=19Disney is reportedly 'very, very confident' in Indiana Jones and the Dial of Destiny.\",\n",
       "  'post_date': '2023-04-02 06:51:49',\n",
       "  'user_id': 'Over-Collection3464'},\n",
       " {'data': 'Tons of burning plastic released into the air from giga-sized dumpster fire at a facility that is used for recycling and stores plastic and other material in Richmond, Indiana',\n",
       "  'post_date': '2023-04-11 18:59:28',\n",
       "  'user_id': '150c_vapour'},\n",
       " {'data': 'https://www.fox19.com/2023/04/11/watch-massive-fire-prompts-evacuation-order-eastern-indiana-city/Industrial fire in Richmond, Indiana 4/11/23',\n",
       "  'post_date': '2023-04-11 19:35:01',\n",
       "  'user_id': 'Creepy-Bite-3174'},\n",
       " {'data': 'Harrison Ford Doesn\\'t Want Chris Pratt Anywhere Near Indiana Jones, And the Reason is Simple | \"Don\\'t you get it, I\\'m Indiana Jones,\" he said. \"Once I\\'m gone, he\\'s gone.\"',\n",
       "  'post_date': '2023-03-26 19:28:28',\n",
       "  'user_id': 'crumbdiddles'},\n",
       " {'data': '\"And in Indiana, there is Senate Bill 12. It’s already passed the state senate. If it becomes law, it would allow for criminal prosecution of [public] librarians for having content harmful to minors.\"',\n",
       "  'post_date': '2023-04-05 06:01:09',\n",
       "  'user_id': 'FlyingSquid'},\n",
       " {'data': 'Day 18 of adding whoever the top comment decides in the Phantom Menace poster | previous day: Indiana Jones shooting Pong Krell',\n",
       "  'post_date': '2023-04-15 17:34:52',\n",
       "  'user_id': '_Rynio_'},\n",
       " {'data': 'All of them have been since 1999 too. Pretty wild.UCONN has now tied Duke and Indiana with 5 championships.',\n",
       "  'post_date': '2023-04-03 23:39:20',\n",
       "  'user_id': 'dak_is_trash'},\n",
       " {'data': 'Also want to shoutout the UAB Blazers on this day, for obvious reasons.In honor of 4/20, let’s celebrate the only college football program with an all-time winning percentage of .420, the Indiana Hoosiers!',\n",
       "  'post_date': '2023-04-20 12:19:41',\n",
       "  'user_id': 'ReferencesTheOffice'},\n",
       " {'data': 'Indiana bans sex changes for minors',\n",
       "  'post_date': '2023-04-05 17:13:11',\n",
       "  'user_id': 'f1sh98'},\n",
       " {'data': \"Are you considering moving out of Indiana with the current political climate or are you planning on staying? I've been here 3.5 decades but I'm starting to honestly ask myself why I keep giving this government my tax dollars.\",\n",
       "  'post_date': '2023-04-09 18:34:50',\n",
       "  'user_id': 'Balls_McKenzie'}]"
      ]
     },
     "execution_count": 8,
     "metadata": {},
     "output_type": "execute_result"
    }
   ],
   "source": [
    "reddit_api()"
   ]
  },
  {
   "cell_type": "code",
   "execution_count": null,
   "id": "4733839a",
   "metadata": {},
   "outputs": [],
   "source": []
  },
  {
   "cell_type": "code",
   "execution_count": null,
   "id": "dddd8da1",
   "metadata": {},
   "outputs": [],
   "source": []
  },
  {
   "cell_type": "code",
   "execution_count": null,
   "id": "91c4ffa2",
   "metadata": {},
   "outputs": [],
   "source": []
  },
  {
   "cell_type": "code",
   "execution_count": null,
   "id": "3e29b18d",
   "metadata": {},
   "outputs": [],
   "source": []
  },
  {
   "cell_type": "code",
   "execution_count": null,
   "id": "9efde043",
   "metadata": {},
   "outputs": [],
   "source": []
  },
  {
   "cell_type": "code",
   "execution_count": null,
   "id": "8f43c834",
   "metadata": {},
   "outputs": [],
   "source": [
    "from pyspark.sql import SparkSession\n",
    "import json\n"
   ]
  },
  {
   "cell_type": "code",
   "execution_count": null,
   "id": "842c3a90",
   "metadata": {},
   "outputs": [],
   "source": [
    "# Create a PySpark session\n",
    "spark = SparkSession.builder.appName(\"JSONScraper\").getOrCreate()"
   ]
  },
  {
   "cell_type": "code",
   "execution_count": null,
   "id": "bfb38d2c",
   "metadata": {},
   "outputs": [],
   "source": [
    "rdd1 = spark.sparkContext.parallelize([fetch_twitter_api()])"
   ]
  },
  {
   "cell_type": "code",
   "execution_count": null,
   "id": "41736730",
   "metadata": {},
   "outputs": [],
   "source": [
    "data_rdd1 = rdd1.map(twitter_api)"
   ]
  },
  {
   "cell_type": "code",
   "execution_count": null,
   "id": "cb8ed655",
   "metadata": {},
   "outputs": [],
   "source": []
  },
  {
   "cell_type": "code",
   "execution_count": null,
   "id": "9377c533",
   "metadata": {},
   "outputs": [],
   "source": []
  },
  {
   "cell_type": "code",
   "execution_count": null,
   "id": "791ffdb8",
   "metadata": {},
   "outputs": [],
   "source": []
  },
  {
   "cell_type": "code",
   "execution_count": null,
   "id": "31f1f481",
   "metadata": {},
   "outputs": [],
   "source": []
  },
  {
   "cell_type": "code",
   "execution_count": null,
   "id": "91ecd969",
   "metadata": {},
   "outputs": [],
   "source": []
  },
  {
   "cell_type": "markdown",
   "id": "c7faf2bc",
   "metadata": {},
   "source": [
    "# #############################"
   ]
  },
  {
   "cell_type": "code",
   "execution_count": null,
   "id": "1f6b8736",
   "metadata": {},
   "outputs": [],
   "source": [
    "from pyspark.sql import SparkSession\n",
    "import json\n",
    "\n",
    "# Define the function to extract data from JSON files in format 1\n",
    "def extract_data_format1(path):\n",
    "    with open(path, 'r') as f:\n",
    "        json_data = json.load(f)\n",
    "        # extract the required data from the JSON object for format 1\n",
    "        data = json_data['key_format1']\n",
    "    return data\n",
    "\n",
    "# Define the function to extract data from JSON files in format 2\n",
    "def extract_data_format2(path):\n",
    "    with open(path, 'r') as f:\n",
    "        json_data = json.load(f)\n",
    "        # extract the required data from the JSON object for format 2\n",
    "        data = json_data['key_format2']\n",
    "    return data\n",
    "\n",
    "# Create a PySpark session\n",
    "spark = SparkSession.builder.appName(\"JSONScraper\").getOrCreate()\n",
    "\n",
    "# Define the PySpark RDD containing the paths to the JSON files in format 1\n",
    "rdd1 = spark.sparkContext.parallelize(['/path/to/file1_format1.json', '/path/to/file2_format1.json', '/path/to/file3_format1.json'])\n",
    "\n",
    "# Define the PySpark RDD containing the paths to the JSON files in format 2\n",
    "rdd2 = spark.sparkContext.parallelize(['/path/to/file1_format2.json', '/path/to/file2_format2.json', '/path/to/file3_format2.json'])\n",
    "\n",
    "# Use the map transformation to apply the extract_data_format1 function to each file path in the RDD for format 1\n",
    "data_rdd1 = rdd1.map(extract_data_format1)\n",
    "\n",
    "# Use the map transformation to apply the extract_data_format2 function to each file path in the RDD for format 2\n",
    "data_rdd2 = rdd2.map(extract_data_format2)\n",
    "\n",
    "# Use the union transformation to merge the two RDDs into a single RDD\n",
    "final_rdd = data_rdd1.union(data_rdd2)\n",
    "\n",
    "# Save the final RDD to a file or a database\n",
    "final_rdd.saveAsTextFile('/path/to/output')\n"
   ]
  }
 ],
 "metadata": {
  "kernelspec": {
   "display_name": "Python 3 (ipykernel)",
   "language": "python",
   "name": "python3"
  },
  "language_info": {
   "codemirror_mode": {
    "name": "ipython",
    "version": 3
   },
   "file_extension": ".py",
   "mimetype": "text/x-python",
   "name": "python",
   "nbconvert_exporter": "python",
   "pygments_lexer": "ipython3",
   "version": "3.9.12"
  }
 },
 "nbformat": 4,
 "nbformat_minor": 5
}
